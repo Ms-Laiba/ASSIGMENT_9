{
 "cells": [
  {
   "cell_type": "code",
   "execution_count": 5,
   "id": "6f0c59ea-b2a1-4f2d-93cd-cf7b8f763114",
   "metadata": {},
   "outputs": [],
   "source": [
    "#Assigment 9"
   ]
  },
  {
   "cell_type": "code",
   "execution_count": 6,
   "id": "cb4a693c-a0a7-451d-af00-11d203498389",
   "metadata": {},
   "outputs": [],
   "source": [
    "#Creating a numpy array and perform Various operations"
   ]
  },
  {
   "cell_type": "code",
   "execution_count": 7,
   "id": "8020edd0-c704-47cd-a011-98d6485c6ddd",
   "metadata": {},
   "outputs": [],
   "source": [
    "import numpy as np"
   ]
  },
  {
   "cell_type": "code",
   "execution_count": 8,
   "id": "1ce4a809-7b80-46f1-8e26-c787381c471c",
   "metadata": {},
   "outputs": [],
   "source": [
    "array1=np.array([1,2,3,4,5])"
   ]
  },
  {
   "cell_type": "code",
   "execution_count": 9,
   "id": "52c5ddaa-32b2-48bc-8f31-8f7138a07da6",
   "metadata": {},
   "outputs": [],
   "source": [
    "array2=([6,7,8,9,10])"
   ]
  },
  {
   "cell_type": "code",
   "execution_count": null,
   "id": "abeddcfe-f143-495f-adee-3d4c3051957f",
   "metadata": {},
   "outputs": [],
   "source": [
    "#Addition"
   ]
  },
  {
   "cell_type": "code",
   "execution_count": 10,
   "id": "080b1d9d-f7a9-4dde-93d6-166f4c7303ab",
   "metadata": {},
   "outputs": [],
   "source": [
    "arr_sum=array1+array2"
   ]
  },
  {
   "cell_type": "code",
   "execution_count": 11,
   "id": "e00b095c-4dcc-4f9b-80ab-acf18c9b9b2f",
   "metadata": {},
   "outputs": [
    {
     "data": {
      "text/plain": [
       "array([ 7,  9, 11, 13, 15])"
      ]
     },
     "execution_count": 11,
     "metadata": {},
     "output_type": "execute_result"
    }
   ],
   "source": [
    "arr_sum"
   ]
  },
  {
   "cell_type": "code",
   "execution_count": null,
   "id": "4f97251b-d39d-4776-adf6-c3ab550ab5ec",
   "metadata": {},
   "outputs": [],
   "source": [
    "#Subtraction"
   ]
  },
  {
   "cell_type": "code",
   "execution_count": 12,
   "id": "3d4232b7-b08c-445c-9487-3ce7b2eee1a2",
   "metadata": {},
   "outputs": [],
   "source": [
    "arr_diff=array1-array2"
   ]
  },
  {
   "cell_type": "code",
   "execution_count": 13,
   "id": "f8de0257-5674-4d57-9474-e31faad2955d",
   "metadata": {},
   "outputs": [
    {
     "data": {
      "text/plain": [
       "array([-5, -5, -5, -5, -5])"
      ]
     },
     "execution_count": 13,
     "metadata": {},
     "output_type": "execute_result"
    }
   ],
   "source": [
    "arr_diff"
   ]
  },
  {
   "cell_type": "code",
   "execution_count": null,
   "id": "5782d37a-3323-4ff5-b389-354b965f8d2f",
   "metadata": {},
   "outputs": [],
   "source": [
    "#Multiplication"
   ]
  },
  {
   "cell_type": "code",
   "execution_count": 14,
   "id": "5e55e405-a39b-402e-83c6-bebebeea74b2",
   "metadata": {},
   "outputs": [],
   "source": [
    "arr_product=array1*array2"
   ]
  },
  {
   "cell_type": "code",
   "execution_count": 15,
   "id": "691deb98-4670-456e-baaa-b3f7b1aa8f62",
   "metadata": {},
   "outputs": [
    {
     "data": {
      "text/plain": [
       "array([ 6, 14, 24, 36, 50])"
      ]
     },
     "execution_count": 15,
     "metadata": {},
     "output_type": "execute_result"
    }
   ],
   "source": [
    "arr_product"
   ]
  },
  {
   "cell_type": "code",
   "execution_count": null,
   "id": "4bfd7f07-4722-4e43-8f3a-79f8099f8363",
   "metadata": {},
   "outputs": [],
   "source": [
    "#Division"
   ]
  },
  {
   "cell_type": "code",
   "execution_count": 16,
   "id": "abdde7a5-5579-4471-83cc-02904f7e5b07",
   "metadata": {},
   "outputs": [],
   "source": [
    "arr_division=array1/array2"
   ]
  },
  {
   "cell_type": "code",
   "execution_count": 17,
   "id": "2e701b16-a1c9-49ee-a9f4-21491a089fa7",
   "metadata": {},
   "outputs": [
    {
     "data": {
      "text/plain": [
       "array([0.16666667, 0.28571429, 0.375     , 0.44444444, 0.5       ])"
      ]
     },
     "execution_count": 17,
     "metadata": {},
     "output_type": "execute_result"
    }
   ],
   "source": [
    "arr_division"
   ]
  },
  {
   "cell_type": "code",
   "execution_count": null,
   "id": "422cdd18-53ff-4269-9d45-61c51d770c1e",
   "metadata": {},
   "outputs": [],
   "source": [
    "#Indexing and slicing"
   ]
  },
  {
   "cell_type": "code",
   "execution_count": 19,
   "id": "6ace85f2-a0af-40f7-b9be-c4a4044070a1",
   "metadata": {},
   "outputs": [],
   "source": [
    "arr=np.array([10,20,30,40,50,60,70,80,90,100,110,120,130,140,150,160,170,180,190,200])"
   ]
  },
  {
   "cell_type": "code",
   "execution_count": 21,
   "id": "b08f83c6-70e3-4f61-8928-a3ea72dfdc49",
   "metadata": {},
   "outputs": [
    {
     "data": {
      "text/plain": [
       "140"
      ]
     },
     "execution_count": 21,
     "metadata": {},
     "output_type": "execute_result"
    }
   ],
   "source": [
    "#Get 140\n",
    "element_140=arr[-7]\n",
    "element_140"
   ]
  },
  {
   "cell_type": "code",
   "execution_count": 23,
   "id": "8d0480f7-dda6-4e13-b106-2f40682dbef8",
   "metadata": {},
   "outputs": [
    {
     "data": {
      "text/plain": [
       "70"
      ]
     },
     "execution_count": 23,
     "metadata": {},
     "output_type": "execute_result"
    }
   ],
   "source": [
    "#Get 70\n",
    "element_70=arr[6]\n",
    "element_70"
   ]
  },
  {
   "cell_type": "code",
   "execution_count": 24,
   "id": "92d0eb9f-c531-435b-a69f-1cd0e5009eff",
   "metadata": {},
   "outputs": [
    {
     "data": {
      "text/plain": [
       "array([ 40,  50,  60,  70,  80,  90, 100])"
      ]
     },
     "execution_count": 24,
     "metadata": {},
     "output_type": "execute_result"
    }
   ],
   "source": [
    "#Get 40 to 100\n",
    "element_40_100=arr[3:10]\n",
    "element_40_100"
   ]
  },
  {
   "cell_type": "code",
   "execution_count": 25,
   "id": "e26214fa-510c-4a9b-8f36-58697a0eeb40",
   "metadata": {},
   "outputs": [
    {
     "data": {
      "text/plain": [
       "array([10, 30, 50, 70])"
      ]
     },
     "execution_count": 25,
     "metadata": {},
     "output_type": "execute_result"
    }
   ],
   "source": [
    "#get 10,30,50,70\n",
    "element_jump=arr[0:8:2]\n",
    "element_jump"
   ]
  },
  {
   "cell_type": "code",
   "execution_count": 28,
   "id": "b69865f9-41e7-46c7-8228-f48cab8dd087",
   "metadata": {},
   "outputs": [
    {
     "data": {
      "text/plain": [
       "array([10, 20, 30, 40, 50])"
      ]
     },
     "execution_count": 28,
     "metadata": {},
     "output_type": "execute_result"
    }
   ],
   "source": [
    "#Get 10 t0 50\n",
    "element_10_50=arr[:5]\n",
    "element_10_50"
   ]
  },
  {
   "cell_type": "code",
   "execution_count": null,
   "id": "f47c59d1-94ac-40c8-a9ab-52b3dd810a14",
   "metadata": {},
   "outputs": [],
   "source": [
    "#Reshaping arrays and transporsing matrices"
   ]
  },
  {
   "cell_type": "code",
   "execution_count": 31,
   "id": "ba5ad92b-41e4-441f-ba91-2f0caa0f11ca",
   "metadata": {},
   "outputs": [
    {
     "data": {
      "text/plain": [
       "array([ 1,  2,  3,  4,  5,  6,  7,  8,  9, 10, 11, 12])"
      ]
     },
     "execution_count": 31,
     "metadata": {},
     "output_type": "execute_result"
    }
   ],
   "source": [
    "array=np.array([1,2,3,4,5,6,7,8,9,10,11,12])\n",
    "array"
   ]
  },
  {
   "cell_type": "code",
   "execution_count": 34,
   "id": "11dcb986-6519-4eaf-971e-af6dcd3686a8",
   "metadata": {},
   "outputs": [
    {
     "data": {
      "text/plain": [
       "array([[ 1,  2,  3,  4],\n",
       "       [ 5,  6,  7,  8],\n",
       "       [ 9, 10, 11, 12]])"
      ]
     },
     "execution_count": 34,
     "metadata": {},
     "output_type": "execute_result"
    }
   ],
   "source": [
    "array.reshape(3,4)"
   ]
  },
  {
   "cell_type": "code",
   "execution_count": 35,
   "id": "26968cdf-930b-4e47-afc9-0558de35ba50",
   "metadata": {},
   "outputs": [
    {
     "data": {
      "text/plain": [
       "array([[ 1,  2],\n",
       "       [ 3,  4],\n",
       "       [ 5,  6],\n",
       "       [ 7,  8],\n",
       "       [ 9, 10],\n",
       "       [11, 12]])"
      ]
     },
     "execution_count": 35,
     "metadata": {},
     "output_type": "execute_result"
    }
   ],
   "source": [
    "array.reshape(6,2)"
   ]
  },
  {
   "cell_type": "code",
   "execution_count": 41,
   "id": "38e432f7-232a-4380-b746-ac402706013e",
   "metadata": {},
   "outputs": [
    {
     "data": {
      "text/plain": [
       "array([[ 2,  4,  6,  8, 10],\n",
       "       [ 1,  3,  5,  7,  9]])"
      ]
     },
     "execution_count": 41,
     "metadata": {},
     "output_type": "execute_result"
    }
   ],
   "source": [
    "array3=np.array([[2,4,6,8,10],[1,3,5,7,9]])\n",
    "array3"
   ]
  },
  {
   "cell_type": "code",
   "execution_count": 43,
   "id": "adfd72c2-9dc1-4c73-b444-8c7bd73e1ebf",
   "metadata": {},
   "outputs": [
    {
     "data": {
      "text/plain": [
       "array([[ 2,  1],\n",
       "       [ 4,  3],\n",
       "       [ 6,  5],\n",
       "       [ 8,  7],\n",
       "       [10,  9]])"
      ]
     },
     "execution_count": 43,
     "metadata": {},
     "output_type": "execute_result"
    }
   ],
   "source": [
    "transpose=array3.T\n",
    "transpose"
   ]
  },
  {
   "cell_type": "code",
   "execution_count": null,
   "id": "14c36fa3-e75a-4d54-82f2-84ff031b382e",
   "metadata": {},
   "outputs": [],
   "source": [
    "#Statistics"
   ]
  },
  {
   "cell_type": "code",
   "execution_count": 44,
   "id": "98cbb29b-9d1a-47b3-b5d0-f6d0873130d4",
   "metadata": {},
   "outputs": [],
   "source": [
    "my_array=np.array([5,10,15,20,25,30,35,40,45,50,55,60,65,70,75,80,85,90,95,100])"
   ]
  },
  {
   "cell_type": "code",
   "execution_count": 49,
   "id": "e2c5cdaa-2678-4703-8560-c03364843e53",
   "metadata": {},
   "outputs": [
    {
     "data": {
      "text/plain": [
       "52.5"
      ]
     },
     "execution_count": 49,
     "metadata": {},
     "output_type": "execute_result"
    }
   ],
   "source": [
    "#Mean\n",
    "mean=np.mean(my_array)\n",
    "mean"
   ]
  },
  {
   "cell_type": "code",
   "execution_count": 50,
   "id": "f6b434a2-7485-4d86-9066-6eabdbbb8cb8",
   "metadata": {},
   "outputs": [
    {
     "data": {
      "text/plain": [
       "52.5"
      ]
     },
     "execution_count": 50,
     "metadata": {},
     "output_type": "execute_result"
    }
   ],
   "source": [
    "median=np.median(my_array)\n",
    "median"
   ]
  },
  {
   "cell_type": "code",
   "execution_count": 52,
   "id": "499583a1-63d0-44ee-ba6a-b69b278124f8",
   "metadata": {},
   "outputs": [
    {
     "data": {
      "text/plain": [
       "831.25"
      ]
     },
     "execution_count": 52,
     "metadata": {},
     "output_type": "execute_result"
    }
   ],
   "source": [
    "variance=np.var(my_array)\n",
    "variance"
   ]
  },
  {
   "cell_type": "code",
   "execution_count": 53,
   "id": "f20c999c-910f-473f-8787-425b37de035b",
   "metadata": {},
   "outputs": [
    {
     "data": {
      "text/plain": [
       "28.83140648667699"
      ]
     },
     "execution_count": 53,
     "metadata": {},
     "output_type": "execute_result"
    }
   ],
   "source": [
    "std_dev=np.std(my_array)\n",
    "std_dev"
   ]
  },
  {
   "cell_type": "code",
   "execution_count": null,
   "id": "4b13860b-1172-4929-b80d-b0797fa41cfc",
   "metadata": {},
   "outputs": [],
   "source": [
    "#Array with different data types"
   ]
  },
  {
   "cell_type": "code",
   "execution_count": 54,
   "id": "bdb6e6b8-2e3e-4b2f-9d3c-850d65021f9b",
   "metadata": {},
   "outputs": [
    {
     "data": {
      "text/plain": [
       "array([2, 3, 4, 5, 6])"
      ]
     },
     "execution_count": 54,
     "metadata": {},
     "output_type": "execute_result"
    }
   ],
   "source": [
    "#Array with integers\n",
    "int_arr=np.array([2,3,4,5,6])\n",
    "int_arr"
   ]
  },
  {
   "cell_type": "code",
   "execution_count": 56,
   "id": "89c1efa8-a6b8-4b80-87e8-948f9d363c74",
   "metadata": {},
   "outputs": [
    {
     "data": {
      "text/plain": [
       "array(['Sana', 'Muskan', 'Azalfa', 'Kainat', 'Hania', 'Abdul Hadi'],\n",
       "      dtype='<U10')"
      ]
     },
     "execution_count": 56,
     "metadata": {},
     "output_type": "execute_result"
    }
   ],
   "source": [
    "str_arr=np.array(['Sana','Muskan','Azalfa','Kainat','Hania','Abdul Hadi'])\n",
    "str_arr"
   ]
  },
  {
   "cell_type": "code",
   "execution_count": 59,
   "id": "914fd710-3c1f-4460-b45a-f81868e048e8",
   "metadata": {},
   "outputs": [
    {
     "data": {
      "text/plain": [
       "array([ True, False, False,  True, False,  True,  True])"
      ]
     },
     "execution_count": 59,
     "metadata": {},
     "output_type": "execute_result"
    }
   ],
   "source": [
    "boolean_arr=np.array([True,False,False,True,False,True,True])\n",
    "boolean_arr"
   ]
  },
  {
   "cell_type": "code",
   "execution_count": 61,
   "id": "d863960b-86d1-4aa7-8f39-20d6b10e6703",
   "metadata": {},
   "outputs": [
    {
     "data": {
      "text/plain": [
       "array([0.1, 0.2, 0.3, 0.4, 0.5])"
      ]
     },
     "execution_count": 61,
     "metadata": {},
     "output_type": "execute_result"
    }
   ],
   "source": [
    "float_arr=np.array([0.1,0.2,0.3,0.4,0.5])\n",
    "float_arr"
   ]
  },
  {
   "cell_type": "code",
   "execution_count": null,
   "id": "ae947ac4-92f0-4615-bbbf-7f3e05075a3e",
   "metadata": {},
   "outputs": [],
   "source": [
    "#Concatenation of array"
   ]
  },
  {
   "cell_type": "code",
   "execution_count": 65,
   "id": "e6fcf883-17a6-4ee1-b541-1dc7fc814f6d",
   "metadata": {},
   "outputs": [
    {
     "data": {
      "text/plain": [
       "array([1, 2, 3, 4, 5, 6])"
      ]
     },
     "execution_count": 65,
     "metadata": {},
     "output_type": "execute_result"
    }
   ],
   "source": [
    "array_1=np.array([1,2,3])\n",
    "array_2=np.array([4,5,6])\n",
    "concatenate_array=np.concatenate((array_1,array_2))\n",
    "concatenate_array"
   ]
  },
  {
   "cell_type": "code",
   "execution_count": null,
   "id": "1ab46436-eef7-43cc-a6f9-2ccca552a506",
   "metadata": {},
   "outputs": [],
   "source": [
    "#Sorting"
   ]
  },
  {
   "cell_type": "code",
   "execution_count": 68,
   "id": "da284a20-9fda-4c69-8d0c-035e4a5e33cd",
   "metadata": {},
   "outputs": [],
   "source": [
    "arr_1=np.array([4,7,2,10,3,9,5,8,31,16,34,0])"
   ]
  },
  {
   "cell_type": "code",
   "execution_count": 70,
   "id": "26d4b130-fb17-4c54-865d-f670737d4fd8",
   "metadata": {},
   "outputs": [
    {
     "data": {
      "text/plain": [
       "array([ 0,  2,  3,  4,  5,  7,  8,  9, 10, 16, 31, 34])"
      ]
     },
     "execution_count": 70,
     "metadata": {},
     "output_type": "execute_result"
    }
   ],
   "source": [
    "#Ascending order\n",
    "asc_arr=np.sort(arr_1)\n",
    "asc_arr"
   ]
  },
  {
   "cell_type": "code",
   "execution_count": 76,
   "id": "dd3a0392-00d4-427a-9ad1-d9cba0d3852c",
   "metadata": {},
   "outputs": [
    {
     "data": {
      "text/plain": [
       "array([34, 31, 16, 10,  9,  8,  7,  5,  4,  3,  2,  0])"
      ]
     },
     "execution_count": 76,
     "metadata": {},
     "output_type": "execute_result"
    }
   ],
   "source": [
    "#Descending_order\n",
    "des_arr=np.sort(arr_1)[::-1]\n",
    "des_arr"
   ]
  }
 ],
 "metadata": {
  "kernelspec": {
   "display_name": "Python 3 (ipykernel)",
   "language": "python",
   "name": "python3"
  },
  "language_info": {
   "codemirror_mode": {
    "name": "ipython",
    "version": 3
   },
   "file_extension": ".py",
   "mimetype": "text/x-python",
   "name": "python",
   "nbconvert_exporter": "python",
   "pygments_lexer": "ipython3",
   "version": "3.12.4"
  }
 },
 "nbformat": 4,
 "nbformat_minor": 5
}
